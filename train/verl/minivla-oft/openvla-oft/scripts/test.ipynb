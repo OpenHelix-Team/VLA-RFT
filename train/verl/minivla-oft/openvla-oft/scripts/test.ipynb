{
 "cells": [
  {
   "cell_type": "code",
   "execution_count": 2,
   "id": "e6d65b38",
   "metadata": {},
   "outputs": [
    {
     "name": "stdout",
     "output_type": "stream",
     "text": [
      "Using REALWORLD constants:\n",
      "  NUM_ACTIONS_CHUNK = 8\n",
      "  ACTION_DIM = 7\n",
      "  PROPRIO_DIM = 6\n",
      "  ACTION_PROPRIO_NORMALIZATION_TYPE = bounds_q99\n",
      "If needed, manually set the correct constants in `prismatic/vla/constants.py`!\n"
     ]
    }
   ],
   "source": [
    "import json\n",
    "import os\n",
    "from dataclasses import dataclass, field\n",
    "from pathlib import Path\n",
    "from typing import Optional, Tuple, Union\n",
    "\n",
    "import draccus\n",
    "import torch\n",
    "import torch.distributed as dist\n",
    "import yaml\n",
    "\n",
    "from prismatic.conf import DatasetConfig, DatasetRegistry, ModelConfig, ModelRegistry\n",
    "from prismatic.models import get_llm_backbone_and_tokenizer, get_vision_backbone_and_transform, get_vlm\n",
    "from prismatic.overwatch import initialize_overwatch\n",
    "from prismatic.preprocessing import get_dataset_and_collator\n",
    "from prismatic.training import Metrics, get_train_strategy\n",
    "from prismatic.util import set_global_seed\n"
   ]
  }
 ],
 "metadata": {
  "kernelspec": {
   "display_name": "MARVEL",
   "language": "python",
   "name": "python3"
  },
  "language_info": {
   "codemirror_mode": {
    "name": "ipython",
    "version": 3
   },
   "file_extension": ".py",
   "mimetype": "text/x-python",
   "name": "python",
   "nbconvert_exporter": "python",
   "pygments_lexer": "ipython3",
   "version": "3.10.12"
  }
 },
 "nbformat": 4,
 "nbformat_minor": 5
}
